{
 "cells": [
  {
   "cell_type": "markdown",
   "id": "0b63abb3-e6d5-4c30-964b-648605105ff1",
   "metadata": {},
   "source": [
    "## Dataset preparation for the question answering notebook\n",
    "\n",
    "We want to construct a balanced dataset with one word answers to questions. We still want 'yes' to have a bigger presence, just in real life, but not to overwhelm the other options during the training process."
   ]
  },
  {
   "cell_type": "code",
   "execution_count": 1,
   "id": "60b14e44-9cdf-4991-998c-7ce492c53e29",
   "metadata": {},
   "outputs": [],
   "source": [
    "import numpy as np\n",
    "import pandas as pd\n",
    "\n",
    "\n",
    "import re\n",
    "import os\n",
    "import seaborn as sns\n",
    "import matplotlib.pyplot as plt\n",
    "%matplotlib inline"
   ]
  },
  {
   "cell_type": "code",
   "execution_count": 2,
   "id": "c7739d4a-3003-4d44-87b8-690ac1001fc5",
   "metadata": {},
   "outputs": [
    {
     "data": {
      "text/plain": [
       "['.DS_Store',\n",
       " 'S09_question_answer_pairs.txt',\n",
       " 'enwiki_20180420_100d.txt',\n",
       " 'S08_question_answer_pairs.txt',\n",
       " 'dataset_1.csv',\n",
       " 'train.csv',\n",
       " 'S10_question_answer_pairs.txt',\n",
       " 'dataset.csv']"
      ]
     },
     "execution_count": 2,
     "metadata": {},
     "output_type": "execute_result"
    }
   ],
   "source": [
    "os.listdir('data')"
   ]
  },
  {
   "cell_type": "code",
   "execution_count": 3,
   "id": "2abaaab0-b6f3-4f68-b695-1ef9a5b05846",
   "metadata": {},
   "outputs": [],
   "source": [
    "df = pd.read_csv('data/S09_question_answer_pairs.txt',sep = '\\t')"
   ]
  },
  {
   "cell_type": "code",
   "execution_count": 4,
   "id": "39f0d2b1-7df9-438f-832f-b9d69ba39259",
   "metadata": {},
   "outputs": [
    {
     "data": {
      "text/html": [
       "<div>\n",
       "<style scoped>\n",
       "    .dataframe tbody tr th:only-of-type {\n",
       "        vertical-align: middle;\n",
       "    }\n",
       "\n",
       "    .dataframe tbody tr th {\n",
       "        vertical-align: top;\n",
       "    }\n",
       "\n",
       "    .dataframe thead th {\n",
       "        text-align: right;\n",
       "    }\n",
       "</style>\n",
       "<table border=\"1\" class=\"dataframe\">\n",
       "  <thead>\n",
       "    <tr style=\"text-align: right;\">\n",
       "      <th></th>\n",
       "      <th>ArticleTitle</th>\n",
       "      <th>Question</th>\n",
       "      <th>Answer</th>\n",
       "      <th>DifficultyFromQuestioner</th>\n",
       "      <th>DifficultyFromAnswerer</th>\n",
       "      <th>ArticleFile</th>\n",
       "    </tr>\n",
       "  </thead>\n",
       "  <tbody>\n",
       "    <tr>\n",
       "      <th>0</th>\n",
       "      <td>Alessandro_Volta</td>\n",
       "      <td>Was Volta an Italian physicist?</td>\n",
       "      <td>yes</td>\n",
       "      <td>easy</td>\n",
       "      <td>easy</td>\n",
       "      <td>S09_set4_a10</td>\n",
       "    </tr>\n",
       "    <tr>\n",
       "      <th>1</th>\n",
       "      <td>Alessandro_Volta</td>\n",
       "      <td>Was Volta an Italian physicist?</td>\n",
       "      <td>yes</td>\n",
       "      <td>easy</td>\n",
       "      <td>easy</td>\n",
       "      <td>S09_set4_a10</td>\n",
       "    </tr>\n",
       "    <tr>\n",
       "      <th>2</th>\n",
       "      <td>Alessandro_Volta</td>\n",
       "      <td>Is Volta buried in the city of Pittsburgh?</td>\n",
       "      <td>no</td>\n",
       "      <td>easy</td>\n",
       "      <td>easy</td>\n",
       "      <td>S09_set4_a10</td>\n",
       "    </tr>\n",
       "    <tr>\n",
       "      <th>3</th>\n",
       "      <td>Alessandro_Volta</td>\n",
       "      <td>Is Volta buried in the city of Pittsburgh?</td>\n",
       "      <td>no</td>\n",
       "      <td>easy</td>\n",
       "      <td>easy</td>\n",
       "      <td>S09_set4_a10</td>\n",
       "    </tr>\n",
       "    <tr>\n",
       "      <th>4</th>\n",
       "      <td>Alessandro_Volta</td>\n",
       "      <td>Did Volta have a passion for the study of elec...</td>\n",
       "      <td>yes</td>\n",
       "      <td>easy</td>\n",
       "      <td>medium</td>\n",
       "      <td>S09_set4_a10</td>\n",
       "    </tr>\n",
       "  </tbody>\n",
       "</table>\n",
       "</div>"
      ],
      "text/plain": [
       "       ArticleTitle                                           Question Answer  \\\n",
       "0  Alessandro_Volta                    Was Volta an Italian physicist?    yes   \n",
       "1  Alessandro_Volta                    Was Volta an Italian physicist?    yes   \n",
       "2  Alessandro_Volta         Is Volta buried in the city of Pittsburgh?     no   \n",
       "3  Alessandro_Volta         Is Volta buried in the city of Pittsburgh?     no   \n",
       "4  Alessandro_Volta  Did Volta have a passion for the study of elec...    yes   \n",
       "\n",
       "  DifficultyFromQuestioner DifficultyFromAnswerer   ArticleFile  \n",
       "0                     easy                   easy  S09_set4_a10  \n",
       "1                     easy                   easy  S09_set4_a10  \n",
       "2                     easy                   easy  S09_set4_a10  \n",
       "3                     easy                   easy  S09_set4_a10  \n",
       "4                     easy                 medium  S09_set4_a10  "
      ]
     },
     "execution_count": 4,
     "metadata": {},
     "output_type": "execute_result"
    }
   ],
   "source": [
    "df.head()"
   ]
  },
  {
   "cell_type": "code",
   "execution_count": 5,
   "id": "7379846e-5165-46f8-9237-f6cab6f50c3b",
   "metadata": {},
   "outputs": [],
   "source": [
    "df = df[['Question','Answer']]\n",
    "\n",
    "def lower_case(s):\n",
    "    try:\n",
    "        a_string = s.lower()\n",
    "        new_string = re.sub(r'[^\\w\\s]', '', a_string)\n",
    "        return new_string\n",
    "    except:\n",
    "        return s\n",
    "\n",
    "df['Answer'] = df['Answer'].map(lower_case)\n",
    "df['Question'] = df['Question'].map(lower_case)"
   ]
  },
  {
   "cell_type": "code",
   "execution_count": 6,
   "id": "abe80c2b-6a43-4cd9-a4fa-908c912806d3",
   "metadata": {},
   "outputs": [],
   "source": [
    "answer_list = ['yes', 'no', 'indeed', 'what', 'true', 'maybe','perhaps']\n",
    "df = df[df['Answer'].isin(answer_list)]"
   ]
  },
  {
   "cell_type": "code",
   "execution_count": 7,
   "id": "b18ccf3b-1254-4c33-814a-8206cc20e406",
   "metadata": {},
   "outputs": [
    {
     "data": {
      "text/plain": [
       "339"
      ]
     },
     "execution_count": 7,
     "metadata": {},
     "output_type": "execute_result"
    }
   ],
   "source": [
    "len(df)"
   ]
  },
  {
   "cell_type": "code",
   "execution_count": 8,
   "id": "761e06af-af83-43a4-a746-25d1dd520663",
   "metadata": {},
   "outputs": [
    {
     "data": {
      "text/plain": [
       "{'maybe', 'no', 'true', 'yes'}"
      ]
     },
     "execution_count": 8,
     "metadata": {},
     "output_type": "execute_result"
    }
   ],
   "source": [
    "set(df['Answer'].tolist())"
   ]
  },
  {
   "cell_type": "code",
   "execution_count": 9,
   "id": "4d4889b1-5c40-44a6-889b-ef65297ce2c7",
   "metadata": {},
   "outputs": [
    {
     "data": {
      "text/html": [
       "<div>\n",
       "<style scoped>\n",
       "    .dataframe tbody tr th:only-of-type {\n",
       "        vertical-align: middle;\n",
       "    }\n",
       "\n",
       "    .dataframe tbody tr th {\n",
       "        vertical-align: top;\n",
       "    }\n",
       "\n",
       "    .dataframe thead th {\n",
       "        text-align: right;\n",
       "    }\n",
       "</style>\n",
       "<table border=\"1\" class=\"dataframe\">\n",
       "  <thead>\n",
       "    <tr style=\"text-align: right;\">\n",
       "      <th></th>\n",
       "      <th>Question</th>\n",
       "      <th>Answer</th>\n",
       "    </tr>\n",
       "  </thead>\n",
       "  <tbody>\n",
       "    <tr>\n",
       "      <th>0</th>\n",
       "      <td>was volta an italian physicist</td>\n",
       "      <td>yes</td>\n",
       "    </tr>\n",
       "    <tr>\n",
       "      <th>1</th>\n",
       "      <td>was volta an italian physicist</td>\n",
       "      <td>yes</td>\n",
       "    </tr>\n",
       "    <tr>\n",
       "      <th>2</th>\n",
       "      <td>is volta buried in the city of pittsburgh</td>\n",
       "      <td>no</td>\n",
       "    </tr>\n",
       "    <tr>\n",
       "      <th>3</th>\n",
       "      <td>is volta buried in the city of pittsburgh</td>\n",
       "      <td>no</td>\n",
       "    </tr>\n",
       "    <tr>\n",
       "      <th>4</th>\n",
       "      <td>did volta have a passion for the study of elec...</td>\n",
       "      <td>yes</td>\n",
       "    </tr>\n",
       "  </tbody>\n",
       "</table>\n",
       "</div>"
      ],
      "text/plain": [
       "                                            Question Answer\n",
       "0                     was volta an italian physicist    yes\n",
       "1                     was volta an italian physicist    yes\n",
       "2          is volta buried in the city of pittsburgh     no\n",
       "3          is volta buried in the city of pittsburgh     no\n",
       "4  did volta have a passion for the study of elec...    yes"
      ]
     },
     "execution_count": 9,
     "metadata": {},
     "output_type": "execute_result"
    }
   ],
   "source": [
    "df.head()"
   ]
  },
  {
   "cell_type": "code",
   "execution_count": 10,
   "id": "a9b3d7e7-0121-48a1-b780-b17d56bba271",
   "metadata": {},
   "outputs": [],
   "source": [
    "df1 = pd.read_csv('data/S08_question_answer_pairs.txt',sep = '\\t')\n",
    "df1 = df1[['Question','Answer']]\n",
    "df1['Answer'] = df1['Answer'].map(lower_case)\n",
    "df1['Question'] = df1['Question'].map(lower_case)\n",
    "df1 = df1[df1['Answer'].isin(answer_list)]"
   ]
  },
  {
   "cell_type": "code",
   "execution_count": 11,
   "id": "3d609ad2-73e7-48ad-b1e8-2d5fd1945730",
   "metadata": {},
   "outputs": [
    {
     "data": {
      "text/html": [
       "<div>\n",
       "<style scoped>\n",
       "    .dataframe tbody tr th:only-of-type {\n",
       "        vertical-align: middle;\n",
       "    }\n",
       "\n",
       "    .dataframe tbody tr th {\n",
       "        vertical-align: top;\n",
       "    }\n",
       "\n",
       "    .dataframe thead th {\n",
       "        text-align: right;\n",
       "    }\n",
       "</style>\n",
       "<table border=\"1\" class=\"dataframe\">\n",
       "  <thead>\n",
       "    <tr style=\"text-align: right;\">\n",
       "      <th></th>\n",
       "      <th>Question</th>\n",
       "      <th>Answer</th>\n",
       "    </tr>\n",
       "  </thead>\n",
       "  <tbody>\n",
       "    <tr>\n",
       "      <th>0</th>\n",
       "      <td>was abraham lincoln the sixteenth president of...</td>\n",
       "      <td>yes</td>\n",
       "    </tr>\n",
       "    <tr>\n",
       "      <th>1</th>\n",
       "      <td>was abraham lincoln the sixteenth president of...</td>\n",
       "      <td>yes</td>\n",
       "    </tr>\n",
       "    <tr>\n",
       "      <th>2</th>\n",
       "      <td>did lincoln sign the national banking act of 1863</td>\n",
       "      <td>yes</td>\n",
       "    </tr>\n",
       "    <tr>\n",
       "      <th>3</th>\n",
       "      <td>did lincoln sign the national banking act of 1863</td>\n",
       "      <td>yes</td>\n",
       "    </tr>\n",
       "    <tr>\n",
       "      <th>4</th>\n",
       "      <td>did his mother die of pneumonia</td>\n",
       "      <td>no</td>\n",
       "    </tr>\n",
       "  </tbody>\n",
       "</table>\n",
       "</div>"
      ],
      "text/plain": [
       "                                            Question Answer\n",
       "0  was abraham lincoln the sixteenth president of...    yes\n",
       "1  was abraham lincoln the sixteenth president of...    yes\n",
       "2  did lincoln sign the national banking act of 1863    yes\n",
       "3  did lincoln sign the national banking act of 1863    yes\n",
       "4                    did his mother die of pneumonia     no"
      ]
     },
     "execution_count": 11,
     "metadata": {},
     "output_type": "execute_result"
    }
   ],
   "source": [
    "df1.head()"
   ]
  },
  {
   "cell_type": "code",
   "execution_count": 12,
   "id": "c7d39e30-d935-4322-a813-f2ec98e14aad",
   "metadata": {},
   "outputs": [
    {
     "data": {
      "text/plain": [
       "(620, {'no', 'what', 'yes'})"
      ]
     },
     "execution_count": 12,
     "metadata": {},
     "output_type": "execute_result"
    }
   ],
   "source": [
    "len(df1), set(df1['Answer'].tolist())"
   ]
  },
  {
   "cell_type": "code",
   "execution_count": 13,
   "id": "54fd95b0-68e4-4521-8543-ea680c17c5eb",
   "metadata": {},
   "outputs": [],
   "source": [
    "df2 = pd.read_csv('data/S10_question_answer_pairs.txt',sep = '\\t',encoding='latin-1')\n",
    "df2 = df2[['Question','Answer']]\n",
    "df2['Answer'] = df2['Answer'].map(lower_case)\n",
    "df2['Question'] = df2['Question'].map(lower_case)\n",
    "df2 = df2[df2['Answer'].isin(answer_list)]"
   ]
  },
  {
   "cell_type": "code",
   "execution_count": 14,
   "id": "8ab7f144-85ce-46c6-b048-1ae687ce8ee8",
   "metadata": {},
   "outputs": [
    {
     "data": {
      "text/plain": [
       "(418, {'no', 'yes'})"
      ]
     },
     "execution_count": 14,
     "metadata": {},
     "output_type": "execute_result"
    }
   ],
   "source": [
    "len(df2), set(df2['Answer'].tolist())"
   ]
  },
  {
   "cell_type": "code",
   "execution_count": 15,
   "id": "1cf5358f-c1ce-4064-87d2-34de8bfaa380",
   "metadata": {},
   "outputs": [],
   "source": [
    "data = pd.concat([df,df1,df2])"
   ]
  },
  {
   "cell_type": "code",
   "execution_count": 16,
   "id": "c0686f4f-b249-4c02-ac98-dcb8a0610337",
   "metadata": {},
   "outputs": [
    {
     "data": {
      "text/html": [
       "<div>\n",
       "<style scoped>\n",
       "    .dataframe tbody tr th:only-of-type {\n",
       "        vertical-align: middle;\n",
       "    }\n",
       "\n",
       "    .dataframe tbody tr th {\n",
       "        vertical-align: top;\n",
       "    }\n",
       "\n",
       "    .dataframe thead th {\n",
       "        text-align: right;\n",
       "    }\n",
       "</style>\n",
       "<table border=\"1\" class=\"dataframe\">\n",
       "  <thead>\n",
       "    <tr style=\"text-align: right;\">\n",
       "      <th></th>\n",
       "      <th>Question</th>\n",
       "      <th>Answer</th>\n",
       "    </tr>\n",
       "  </thead>\n",
       "  <tbody>\n",
       "    <tr>\n",
       "      <th>0</th>\n",
       "      <td>was volta an italian physicist</td>\n",
       "      <td>yes</td>\n",
       "    </tr>\n",
       "    <tr>\n",
       "      <th>1</th>\n",
       "      <td>was volta an italian physicist</td>\n",
       "      <td>yes</td>\n",
       "    </tr>\n",
       "    <tr>\n",
       "      <th>2</th>\n",
       "      <td>is volta buried in the city of pittsburgh</td>\n",
       "      <td>no</td>\n",
       "    </tr>\n",
       "    <tr>\n",
       "      <th>3</th>\n",
       "      <td>is volta buried in the city of pittsburgh</td>\n",
       "      <td>no</td>\n",
       "    </tr>\n",
       "    <tr>\n",
       "      <th>4</th>\n",
       "      <td>did volta have a passion for the study of elec...</td>\n",
       "      <td>yes</td>\n",
       "    </tr>\n",
       "  </tbody>\n",
       "</table>\n",
       "</div>"
      ],
      "text/plain": [
       "                                            Question Answer\n",
       "0                     was volta an italian physicist    yes\n",
       "1                     was volta an italian physicist    yes\n",
       "2          is volta buried in the city of pittsburgh     no\n",
       "3          is volta buried in the city of pittsburgh     no\n",
       "4  did volta have a passion for the study of elec...    yes"
      ]
     },
     "execution_count": 16,
     "metadata": {},
     "output_type": "execute_result"
    }
   ],
   "source": [
    "data.head()"
   ]
  },
  {
   "cell_type": "code",
   "execution_count": 17,
   "id": "b8c7344e-5be7-4c33-a306-39e4cba85138",
   "metadata": {},
   "outputs": [],
   "source": [
    "data.drop_duplicates(inplace=True)"
   ]
  },
  {
   "cell_type": "code",
   "execution_count": 18,
   "id": "43419092-2a7d-4569-9acc-10c7b01c9d63",
   "metadata": {},
   "outputs": [
    {
     "data": {
      "text/plain": [
       "994"
      ]
     },
     "execution_count": 18,
     "metadata": {},
     "output_type": "execute_result"
    }
   ],
   "source": [
    "len(data)"
   ]
  },
  {
   "cell_type": "code",
   "execution_count": 19,
   "id": "47a1ba23-bbbe-4f60-8b3e-a352343982e5",
   "metadata": {},
   "outputs": [],
   "source": [
    "df3 = pd.read_csv( 'data/train.csv')"
   ]
  },
  {
   "cell_type": "code",
   "execution_count": 20,
   "id": "42f06406-6db4-4c5d-8861-247c096a4f84",
   "metadata": {},
   "outputs": [
    {
     "data": {
      "text/html": [
       "<div>\n",
       "<style scoped>\n",
       "    .dataframe tbody tr th:only-of-type {\n",
       "        vertical-align: middle;\n",
       "    }\n",
       "\n",
       "    .dataframe tbody tr th {\n",
       "        vertical-align: top;\n",
       "    }\n",
       "\n",
       "    .dataframe thead th {\n",
       "        text-align: right;\n",
       "    }\n",
       "</style>\n",
       "<table border=\"1\" class=\"dataframe\">\n",
       "  <thead>\n",
       "    <tr style=\"text-align: right;\">\n",
       "      <th></th>\n",
       "      <th>Question</th>\n",
       "      <th>Answer</th>\n",
       "    </tr>\n",
       "  </thead>\n",
       "  <tbody>\n",
       "    <tr>\n",
       "      <th>0</th>\n",
       "      <td>What is the best off-road motorcycle trail ?</td>\n",
       "      <td>i hear that the mojave road is amazing!&lt;br /&gt;\\...</td>\n",
       "    </tr>\n",
       "    <tr>\n",
       "      <th>1</th>\n",
       "      <td>What is Trans Fat? How to reduce that?</td>\n",
       "      <td>Trans fats occur in manufactured foods during ...</td>\n",
       "    </tr>\n",
       "    <tr>\n",
       "      <th>2</th>\n",
       "      <td>How many planes Fedex has?</td>\n",
       "      <td>according to the www.fedex.com web site:\\nAir ...</td>\n",
       "    </tr>\n",
       "  </tbody>\n",
       "</table>\n",
       "</div>"
      ],
      "text/plain": [
       "                                       Question  \\\n",
       "0  What is the best off-road motorcycle trail ?   \n",
       "1        What is Trans Fat? How to reduce that?   \n",
       "2                    How many planes Fedex has?   \n",
       "\n",
       "                                              Answer  \n",
       "0  i hear that the mojave road is amazing!<br />\\...  \n",
       "1  Trans fats occur in manufactured foods during ...  \n",
       "2  according to the www.fedex.com web site:\\nAir ...  "
      ]
     },
     "execution_count": 20,
     "metadata": {},
     "output_type": "execute_result"
    }
   ],
   "source": [
    "df3.columns =['cat', 'Question','Question_ext','Answer']\n",
    "df3 = df3[['Question','Answer']]\n",
    "df3.head(3)"
   ]
  },
  {
   "cell_type": "code",
   "execution_count": 21,
   "id": "48c1bab6-06a1-4d44-9f64-7ef65b4e95b2",
   "metadata": {},
   "outputs": [],
   "source": [
    "df3['Answer'] = df3['Answer'].map(lower_case)\n",
    "df3['Question'] = df3['Question'].map(lower_case)"
   ]
  },
  {
   "cell_type": "code",
   "execution_count": 22,
   "id": "d26f6552-1eb5-49f6-b951-f5cc5c31a6f8",
   "metadata": {},
   "outputs": [],
   "source": [
    "\n",
    "df3 = df3[df3['Answer'].isin(answer_list[1:])]"
   ]
  },
  {
   "cell_type": "code",
   "execution_count": 23,
   "id": "5dd2dcb5-c139-463d-8fd4-afcdcd5b0154",
   "metadata": {},
   "outputs": [
    {
     "data": {
      "text/html": [
       "<div>\n",
       "<style scoped>\n",
       "    .dataframe tbody tr th:only-of-type {\n",
       "        vertical-align: middle;\n",
       "    }\n",
       "\n",
       "    .dataframe tbody tr th {\n",
       "        vertical-align: top;\n",
       "    }\n",
       "\n",
       "    .dataframe thead th {\n",
       "        text-align: right;\n",
       "    }\n",
       "</style>\n",
       "<table border=\"1\" class=\"dataframe\">\n",
       "  <thead>\n",
       "    <tr style=\"text-align: right;\">\n",
       "      <th></th>\n",
       "      <th>Question</th>\n",
       "      <th>Answer</th>\n",
       "    </tr>\n",
       "  </thead>\n",
       "  <tbody>\n",
       "    <tr>\n",
       "      <th>260</th>\n",
       "      <td>any great top quality language schools in dallas</td>\n",
       "      <td>no</td>\n",
       "    </tr>\n",
       "    <tr>\n",
       "      <th>775</th>\n",
       "      <td>is prostitution legal in las vegas</td>\n",
       "      <td>no</td>\n",
       "    </tr>\n",
       "    <tr>\n",
       "      <th>1090</th>\n",
       "      <td>are there any marriage minded asian females ou...</td>\n",
       "      <td>perhaps</td>\n",
       "    </tr>\n",
       "    <tr>\n",
       "      <th>1371</th>\n",
       "      <td>is george bush the anti christ</td>\n",
       "      <td>no</td>\n",
       "    </tr>\n",
       "    <tr>\n",
       "      <th>2357</th>\n",
       "      <td>can you go back in time and kill yourself</td>\n",
       "      <td>no</td>\n",
       "    </tr>\n",
       "  </tbody>\n",
       "</table>\n",
       "</div>"
      ],
      "text/plain": [
       "                                               Question   Answer\n",
       "260    any great top quality language schools in dallas       no\n",
       "775                  is prostitution legal in las vegas       no\n",
       "1090  are there any marriage minded asian females ou...  perhaps\n",
       "1371                     is george bush the anti christ       no\n",
       "2357          can you go back in time and kill yourself       no"
      ]
     },
     "execution_count": 23,
     "metadata": {},
     "output_type": "execute_result"
    }
   ],
   "source": [
    "df3.head()"
   ]
  },
  {
   "cell_type": "code",
   "execution_count": 24,
   "id": "b6610b3a-9474-4914-96e1-42c853a608a7",
   "metadata": {},
   "outputs": [
    {
     "data": {
      "text/plain": [
       "3065"
      ]
     },
     "execution_count": 24,
     "metadata": {},
     "output_type": "execute_result"
    }
   ],
   "source": [
    "len(df3)"
   ]
  },
  {
   "cell_type": "code",
   "execution_count": 25,
   "id": "eb4eb83f-fe41-40e6-bf32-cfb942ac3ca9",
   "metadata": {},
   "outputs": [],
   "source": [
    "df3no = df3[df3['Answer'] == 'no']\n",
    "df3other = df3[df3['Answer'] != 'no']"
   ]
  },
  {
   "cell_type": "code",
   "execution_count": 26,
   "id": "b1a77427-6081-482b-9458-970303f038ef",
   "metadata": {},
   "outputs": [],
   "source": [
    "df3no = df3no.iloc[:450]"
   ]
  },
  {
   "cell_type": "code",
   "execution_count": 27,
   "id": "18406339-3b2a-4e2b-8b60-9a2d11fd1871",
   "metadata": {},
   "outputs": [],
   "source": [
    "data = pd.concat([data,df3no,df3other])"
   ]
  },
  {
   "cell_type": "code",
   "execution_count": 28,
   "id": "69dfb57c-4daa-43dc-9a3a-67ed883c45a5",
   "metadata": {},
   "outputs": [
    {
     "data": {
      "text/plain": [
       "2002"
      ]
     },
     "execution_count": 28,
     "metadata": {},
     "output_type": "execute_result"
    }
   ],
   "source": [
    "len(data)"
   ]
  },
  {
   "cell_type": "code",
   "execution_count": 29,
   "id": "cedd3238-0257-4e2f-b809-252df5935336",
   "metadata": {},
   "outputs": [
    {
     "data": {
      "text/plain": [
       "637"
      ]
     },
     "execution_count": 29,
     "metadata": {},
     "output_type": "execute_result"
    }
   ],
   "source": [
    "len(data[data['Answer'] == 'no'])"
   ]
  },
  {
   "cell_type": "code",
   "execution_count": 30,
   "id": "80216783-9ff3-4eb4-bed0-85cf529c29af",
   "metadata": {},
   "outputs": [],
   "source": [
    "sinodict = {'maybe':'perhaps','true':'yes','indeed':'yes'}\n",
    "def map_sinonims(string):\n",
    "    if string in sinodict.keys():\n",
    "        return sinodict[string]\n",
    "    else:\n",
    "        return string"
   ]
  },
  {
   "cell_type": "code",
   "execution_count": 31,
   "id": "bf587003-d9df-4d11-a637-144c4fb637b6",
   "metadata": {},
   "outputs": [],
   "source": [
    "data['Answer'] = data['Answer'].map(map_sinonims)"
   ]
  },
  {
   "cell_type": "code",
   "execution_count": 32,
   "id": "3c146842-7645-476d-a912-9ef9c920a47c",
   "metadata": {},
   "outputs": [
    {
     "data": {
      "text/plain": [
       "<AxesSubplot:xlabel='count', ylabel='Answer'>"
      ]
     },
     "execution_count": 32,
     "metadata": {},
     "output_type": "execute_result"
    },
    {
     "data": {
      "image/png": "[encoded data removed]",
      "text/plain": [
       "<Figure size 432x288 with 1 Axes>"
      ]
     },
     "metadata": {
      "needs_background": "light"
     },
     "output_type": "display_data"
    }
   ],
   "source": [
    "sns.countplot(y='Answer',  data=data, palette=\"Greens_d\")"
   ]
  },
  {
   "cell_type": "code",
   "execution_count": 33,
   "id": "7e95dcf3-ce9c-4624-ac98-e3e325232136",
   "metadata": {},
   "outputs": [],
   "source": [
    "data.to_csv('data/dataset.csv',index=False)"
   ]
  },
  {
   "cell_type": "code",
   "execution_count": null,
   "id": "ea94ef2a-c2b2-4a2f-8f0c-7c2d9a238ae3",
   "metadata": {},
   "outputs": [],
   "source": []
  }
 ],
 "metadata": {
  "kernelspec": {
   "display_name": "Python 3",
   "language": "python",
   "name": "python3"
  },
  "language_info": {
   "codemirror_mode": {
    "name": "ipython",
    "version": 3
   },
   "file_extension": ".py",
   "mimetype": "text/x-python",
   "name": "python",
   "nbconvert_exporter": "python",
   "pygments_lexer": "ipython3",
   "version": "3.7.7"
  }
 },
 "nbformat": 4,
 "nbformat_minor": 5
}
